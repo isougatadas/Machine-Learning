{
 "cells": [
  {
   "cell_type": "markdown",
   "id": "national-cross",
   "metadata": {
    "id": "afuRUPjwQXkg",
    "papermill": {
     "duration": 0.048734,
     "end_time": "2021-06-27T05:44:05.326511",
     "exception": false,
     "start_time": "2021-06-27T05:44:05.277777",
     "status": "completed"
    },
    "tags": []
   },
   "source": [
    "# Prediction of if the Item is purchase from the Ads"
   ]
  },
  {
   "cell_type": "markdown",
   "id": "polar-dubai",
   "metadata": {
    "id": "w171rGNaQfdC",
    "papermill": {
     "duration": 0.049067,
     "end_time": "2021-06-27T05:44:05.423372",
     "exception": false,
     "start_time": "2021-06-27T05:44:05.374305",
     "status": "completed"
    },
    "tags": []
   },
   "source": [
    "This notebook is a work flow for various Python-based machine learning model for predicting if the item is purchase from the ad"
   ]
  },
  {
   "cell_type": "markdown",
   "id": "monthly-stack",
   "metadata": {
    "id": "zmGb_0slQ1HW",
    "papermill": {
     "duration": 0.046357,
     "end_time": "2021-06-27T05:44:05.517126",
     "exception": false,
     "start_time": "2021-06-27T05:44:05.470769",
     "status": "completed"
    },
    "tags": []
   },
   "source": [
    "Going to take the following approach:\n",
    "\n",
    "1. Problem definition\n",
    "2. Data\n",
    "3. Evaluation\n",
    "4. Features\n",
    "5. Modelling\n",
    "6. Model Evaluation"
   ]
  },
  {
   "cell_type": "markdown",
   "id": "therapeutic-momentum",
   "metadata": {
    "id": "xDI0DqwnQ1v2",
    "papermill": {
     "duration": 0.04581,
     "end_time": "2021-06-27T05:44:05.609126",
     "exception": false,
     "start_time": "2021-06-27T05:44:05.563316",
     "status": "completed"
    },
    "tags": []
   },
   "source": [
    "# 1. Problem Definition\n",
    "\n",
    "How we can use various python based Machine Learning Model to and the given parameters to predict the if th ad is shown will the item be purchase?\n"
   ]
  },
  {
   "cell_type": "markdown",
   "id": "horizontal-legislature",
   "metadata": {
    "id": "MTxMDD9ORCDv",
    "papermill": {
     "duration": 0.046552,
     "end_time": "2021-06-27T05:44:05.701669",
     "exception": false,
     "start_time": "2021-06-27T05:44:05.655117",
     "status": "completed"
    },
    "tags": []
   },
   "source": [
    "# 2. Data\n",
    "\n",
    "Data set from: https://www.kaggle.com/d4rklucif3r/social-network-ads\n",
    "\n",
    "The Dataset used in these models tells about whether a person of certain age having certain income purchases a product or not.\n",
    "We need to predict whether a targeted audience will purchase the product or not."
   ]
  },
  {
   "cell_type": "markdown",
   "id": "historical-aberdeen",
   "metadata": {
    "id": "LvnLVV9bRQH_",
    "papermill": {
     "duration": 0.047366,
     "end_time": "2021-06-27T05:44:05.795085",
     "exception": false,
     "start_time": "2021-06-27T05:44:05.747719",
     "status": "completed"
    },
    "tags": []
   },
   "source": [
    "# 3. Evaluation\n",
    "\n",
    "It will be done with the Classification Metrics."
   ]
  },
  {
   "cell_type": "markdown",
   "id": "wireless-turkish",
   "metadata": {
    "id": "D1QoEyv6RbUv",
    "papermill": {
     "duration": 0.047803,
     "end_time": "2021-06-27T05:44:05.890659",
     "exception": false,
     "start_time": "2021-06-27T05:44:05.842856",
     "status": "completed"
    },
    "tags": []
   },
   "source": [
    "# 4. Features\n",
    "\n",
    "## Input /  Features\n",
    "    1. Age - Age of the Person\n",
    "    2. EstimatedSalary - Estimated Salary of Person\n",
    "\n",
    "## Output / Label\n",
    "    3. PurchasedItem - Purchased or Not"
   ]
  },
  {
   "cell_type": "markdown",
   "id": "selective-color",
   "metadata": {
    "id": "WmwFS1e_VYlp",
    "papermill": {
     "duration": 0.046815,
     "end_time": "2021-06-27T05:44:05.983760",
     "exception": false,
     "start_time": "2021-06-27T05:44:05.936945",
     "status": "completed"
    },
    "tags": []
   },
   "source": [
    "## Standard Imports"
   ]
  },
  {
   "cell_type": "code",
   "execution_count": 1,
   "id": "advisory-procurement",
   "metadata": {
    "ExecuteTime": {
     "end_time": "2022-07-17T06:00:05.374381Z",
     "start_time": "2022-07-17T06:00:03.362915Z"
    },
    "execution": {
     "iopub.execute_input": "2021-06-27T05:44:06.086214Z",
     "iopub.status.busy": "2021-06-27T05:44:06.085552Z",
     "iopub.status.idle": "2021-06-27T05:44:07.027327Z",
     "shell.execute_reply": "2021-06-27T05:44:07.027898Z",
     "shell.execute_reply.started": "2021-06-27T05:32:45.665272Z"
    },
    "executionInfo": {
     "elapsed": 376,
     "status": "ok",
     "timestamp": 1624764005255,
     "user": {
      "displayName": "Dave Ng",
      "photoUrl": "https://lh3.googleusercontent.com/a-/AOh14GgonRm27MsGqoj6VBdYHSPgZwrgEH99_VpwU7OMzQ=s64",
      "userId": "11648937927449049695"
     },
     "user_tz": -480
    },
    "id": "8JEJwup1VYlq",
    "papermill": {
     "duration": 0.997077,
     "end_time": "2021-06-27T05:44:07.028206",
     "exception": false,
     "start_time": "2021-06-27T05:44:06.031129",
     "status": "completed"
    },
    "tags": []
   },
   "outputs": [],
   "source": [
    "import pandas as pd\n",
    "import numpy as np\n",
    "import matplotlib.pyplot as plt\n",
    "import seaborn as sns"
   ]
  },
  {
   "cell_type": "code",
   "execution_count": 2,
   "id": "corporate-ceremony",
   "metadata": {
    "ExecuteTime": {
     "end_time": "2022-07-17T06:00:05.389746Z",
     "start_time": "2022-07-17T06:00:05.377056Z"
    },
    "execution": {
     "iopub.execute_input": "2021-06-27T05:44:07.262300Z",
     "iopub.status.busy": "2021-06-27T05:44:07.261461Z",
     "iopub.status.idle": "2021-06-27T05:44:07.264232Z",
     "shell.execute_reply": "2021-06-27T05:44:07.264701Z",
     "shell.execute_reply.started": "2021-06-27T05:32:45.709700Z"
    },
    "executionInfo": {
     "elapsed": 20,
     "status": "ok",
     "timestamp": 1624764005927,
     "user": {
      "displayName": "Dave Ng",
      "photoUrl": "https://lh3.googleusercontent.com/a-/AOh14GgonRm27MsGqoj6VBdYHSPgZwrgEH99_VpwU7OMzQ=s64",
      "userId": "11648937927449049695"
     },
     "user_tz": -480
    },
    "id": "WZLEhkXpVjku",
    "outputId": "757fa782-93da-471a-c26e-e5a0e8590b42",
    "papermill": {
     "duration": 0.053638,
     "end_time": "2021-06-27T05:44:07.264876",
     "exception": false,
     "start_time": "2021-06-27T05:44:07.211238",
     "status": "completed"
    },
    "tags": []
   },
   "outputs": [],
   "source": [
    "# from google.colab import drive\n",
    "# drive.mount('/content/drive')"
   ]
  },
  {
   "cell_type": "code",
   "execution_count": 3,
   "id": "otherwise-backup",
   "metadata": {
    "ExecuteTime": {
     "end_time": "2022-07-17T06:00:05.436455Z",
     "start_time": "2022-07-17T06:00:05.392112Z"
    },
    "execution": {
     "iopub.execute_input": "2021-06-27T05:44:07.364069Z",
     "iopub.status.busy": "2021-06-27T05:44:07.363364Z",
     "iopub.status.idle": "2021-06-27T05:44:07.384167Z",
     "shell.execute_reply": "2021-06-27T05:44:07.384656Z",
     "shell.execute_reply.started": "2021-06-27T05:32:45.731937Z"
    },
    "executionInfo": {
     "elapsed": 18,
     "status": "ok",
     "timestamp": 1624764005929,
     "user": {
      "displayName": "Dave Ng",
      "photoUrl": "https://lh3.googleusercontent.com/a-/AOh14GgonRm27MsGqoj6VBdYHSPgZwrgEH99_VpwU7OMzQ=s64",
      "userId": "11648937927449049695"
     },
     "user_tz": -480
    },
    "id": "vkETWTVOVYlr",
    "outputId": "104ff39a-378a-4ded-cb58-9fbded40cbc5",
    "papermill": {
     "duration": 0.072544,
     "end_time": "2021-06-27T05:44:07.384848",
     "exception": false,
     "start_time": "2021-06-27T05:44:07.312304",
     "status": "completed"
    },
    "tags": []
   },
   "outputs": [],
   "source": [
    "# local\n",
    "df = pd.read_csv('Social_Network_Ads.csv')"
   ]
  },
  {
   "cell_type": "markdown",
   "id": "smaller-arizona",
   "metadata": {
    "id": "qJn7ORqNVYlt",
    "papermill": {
     "duration": 0.048057,
     "end_time": "2021-06-27T05:44:07.489315",
     "exception": false,
     "start_time": "2021-06-27T05:44:07.441258",
     "status": "completed"
    },
    "tags": []
   },
   "source": [
    "## Data Exporation"
   ]
  },
  {
   "cell_type": "code",
   "execution_count": 4,
   "id": "sound-medicaid",
   "metadata": {
    "ExecuteTime": {
     "end_time": "2022-07-17T06:00:05.468183Z",
     "start_time": "2022-07-17T06:00:05.440257Z"
    },
    "execution": {
     "iopub.execute_input": "2021-06-27T05:44:07.592341Z",
     "iopub.status.busy": "2021-06-27T05:44:07.591328Z",
     "iopub.status.idle": "2021-06-27T05:44:07.620753Z",
     "shell.execute_reply": "2021-06-27T05:44:07.621363Z",
     "shell.execute_reply.started": "2021-06-27T05:32:45.764014Z"
    },
    "executionInfo": {
     "elapsed": 16,
     "status": "ok",
     "timestamp": 1624764005931,
     "user": {
      "displayName": "Dave Ng",
      "photoUrl": "https://lh3.googleusercontent.com/a-/AOh14GgonRm27MsGqoj6VBdYHSPgZwrgEH99_VpwU7OMzQ=s64",
      "userId": "11648937927449049695"
     },
     "user_tz": -480
    },
    "id": "eLOxQnHrWenS",
    "outputId": "87c680ce-13d3-4433-82d7-083687e00399",
    "papermill": {
     "duration": 0.080784,
     "end_time": "2021-06-27T05:44:07.621556",
     "exception": false,
     "start_time": "2021-06-27T05:44:07.540772",
     "status": "completed"
    },
    "tags": []
   },
   "outputs": [
    {
     "data": {
      "text/html": [
       "<div>\n",
       "<style scoped>\n",
       "    .dataframe tbody tr th:only-of-type {\n",
       "        vertical-align: middle;\n",
       "    }\n",
       "\n",
       "    .dataframe tbody tr th {\n",
       "        vertical-align: top;\n",
       "    }\n",
       "\n",
       "    .dataframe thead th {\n",
       "        text-align: right;\n",
       "    }\n",
       "</style>\n",
       "<table border=\"1\" class=\"dataframe\">\n",
       "  <thead>\n",
       "    <tr style=\"text-align: right;\">\n",
       "      <th></th>\n",
       "      <th>Age</th>\n",
       "      <th>EstimatedSalary</th>\n",
       "      <th>Purchased</th>\n",
       "    </tr>\n",
       "  </thead>\n",
       "  <tbody>\n",
       "    <tr>\n",
       "      <th>0</th>\n",
       "      <td>19</td>\n",
       "      <td>19000</td>\n",
       "      <td>0</td>\n",
       "    </tr>\n",
       "    <tr>\n",
       "      <th>1</th>\n",
       "      <td>35</td>\n",
       "      <td>20000</td>\n",
       "      <td>0</td>\n",
       "    </tr>\n",
       "    <tr>\n",
       "      <th>2</th>\n",
       "      <td>26</td>\n",
       "      <td>43000</td>\n",
       "      <td>0</td>\n",
       "    </tr>\n",
       "    <tr>\n",
       "      <th>3</th>\n",
       "      <td>27</td>\n",
       "      <td>57000</td>\n",
       "      <td>0</td>\n",
       "    </tr>\n",
       "    <tr>\n",
       "      <th>4</th>\n",
       "      <td>19</td>\n",
       "      <td>76000</td>\n",
       "      <td>0</td>\n",
       "    </tr>\n",
       "    <tr>\n",
       "      <th>...</th>\n",
       "      <td>...</td>\n",
       "      <td>...</td>\n",
       "      <td>...</td>\n",
       "    </tr>\n",
       "    <tr>\n",
       "      <th>395</th>\n",
       "      <td>46</td>\n",
       "      <td>41000</td>\n",
       "      <td>1</td>\n",
       "    </tr>\n",
       "    <tr>\n",
       "      <th>396</th>\n",
       "      <td>51</td>\n",
       "      <td>23000</td>\n",
       "      <td>1</td>\n",
       "    </tr>\n",
       "    <tr>\n",
       "      <th>397</th>\n",
       "      <td>50</td>\n",
       "      <td>20000</td>\n",
       "      <td>1</td>\n",
       "    </tr>\n",
       "    <tr>\n",
       "      <th>398</th>\n",
       "      <td>36</td>\n",
       "      <td>33000</td>\n",
       "      <td>0</td>\n",
       "    </tr>\n",
       "    <tr>\n",
       "      <th>399</th>\n",
       "      <td>49</td>\n",
       "      <td>36000</td>\n",
       "      <td>1</td>\n",
       "    </tr>\n",
       "  </tbody>\n",
       "</table>\n",
       "<p>400 rows × 3 columns</p>\n",
       "</div>"
      ],
      "text/plain": [
       "     Age  EstimatedSalary  Purchased\n",
       "0     19            19000          0\n",
       "1     35            20000          0\n",
       "2     26            43000          0\n",
       "3     27            57000          0\n",
       "4     19            76000          0\n",
       "..   ...              ...        ...\n",
       "395   46            41000          1\n",
       "396   51            23000          1\n",
       "397   50            20000          1\n",
       "398   36            33000          0\n",
       "399   49            36000          1\n",
       "\n",
       "[400 rows x 3 columns]"
      ]
     },
     "execution_count": 4,
     "metadata": {},
     "output_type": "execute_result"
    }
   ],
   "source": [
    "df"
   ]
  },
  {
   "cell_type": "code",
   "execution_count": 5,
   "id": "loose-parks",
   "metadata": {
    "ExecuteTime": {
     "end_time": "2022-07-17T06:00:05.499361Z",
     "start_time": "2022-07-17T06:00:05.470180Z"
    },
    "execution": {
     "iopub.execute_input": "2021-06-27T05:44:07.732835Z",
     "iopub.status.busy": "2021-06-27T05:44:07.731859Z",
     "iopub.status.idle": "2021-06-27T05:44:07.749626Z",
     "shell.execute_reply": "2021-06-27T05:44:07.749080Z",
     "shell.execute_reply.started": "2021-06-27T05:32:45.789935Z"
    },
    "executionInfo": {
     "elapsed": 15,
     "status": "ok",
     "timestamp": 1624764005931,
     "user": {
      "displayName": "Dave Ng",
      "photoUrl": "https://lh3.googleusercontent.com/a-/AOh14GgonRm27MsGqoj6VBdYHSPgZwrgEH99_VpwU7OMzQ=s64",
      "userId": "11648937927449049695"
     },
     "user_tz": -480
    },
    "id": "rGyhTWwFWgNp",
    "outputId": "4d41b271-5c96-4d47-914c-9ec62af25af9",
    "papermill": {
     "duration": 0.080956,
     "end_time": "2021-06-27T05:44:07.749790",
     "exception": false,
     "start_time": "2021-06-27T05:44:07.668834",
     "status": "completed"
    },
    "tags": []
   },
   "outputs": [
    {
     "name": "stdout",
     "output_type": "stream",
     "text": [
      "<class 'pandas.core.frame.DataFrame'>\n",
      "RangeIndex: 400 entries, 0 to 399\n",
      "Data columns (total 3 columns):\n",
      " #   Column           Non-Null Count  Dtype\n",
      "---  ------           --------------  -----\n",
      " 0   Age              400 non-null    int64\n",
      " 1   EstimatedSalary  400 non-null    int64\n",
      " 2   Purchased        400 non-null    int64\n",
      "dtypes: int64(3)\n",
      "memory usage: 9.5 KB\n"
     ]
    }
   ],
   "source": [
    "df.info()"
   ]
  },
  {
   "cell_type": "code",
   "execution_count": 6,
   "id": "complete-field",
   "metadata": {
    "ExecuteTime": {
     "end_time": "2022-07-17T06:00:05.531287Z",
     "start_time": "2022-07-17T06:00:05.502365Z"
    },
    "execution": {
     "iopub.execute_input": "2021-06-27T05:44:07.855789Z",
     "iopub.status.busy": "2021-06-27T05:44:07.855133Z",
     "iopub.status.idle": "2021-06-27T05:44:07.873324Z",
     "shell.execute_reply": "2021-06-27T05:44:07.872768Z",
     "shell.execute_reply.started": "2021-06-27T05:32:45.820236Z"
    },
    "executionInfo": {
     "elapsed": 515,
     "status": "ok",
     "timestamp": 1624764006434,
     "user": {
      "displayName": "Dave Ng",
      "photoUrl": "https://lh3.googleusercontent.com/a-/AOh14GgonRm27MsGqoj6VBdYHSPgZwrgEH99_VpwU7OMzQ=s64",
      "userId": "11648937927449049695"
     },
     "user_tz": -480
    },
    "id": "oxMGqpGUWiO4",
    "outputId": "bc7b63d3-ec76-44fe-ca92-34f1dbcb2919",
    "papermill": {
     "duration": 0.0739,
     "end_time": "2021-06-27T05:44:07.873460",
     "exception": false,
     "start_time": "2021-06-27T05:44:07.799560",
     "status": "completed"
    },
    "tags": []
   },
   "outputs": [
    {
     "data": {
      "text/html": [
       "<div>\n",
       "<style scoped>\n",
       "    .dataframe tbody tr th:only-of-type {\n",
       "        vertical-align: middle;\n",
       "    }\n",
       "\n",
       "    .dataframe tbody tr th {\n",
       "        vertical-align: top;\n",
       "    }\n",
       "\n",
       "    .dataframe thead th {\n",
       "        text-align: right;\n",
       "    }\n",
       "</style>\n",
       "<table border=\"1\" class=\"dataframe\">\n",
       "  <thead>\n",
       "    <tr style=\"text-align: right;\">\n",
       "      <th></th>\n",
       "      <th>Age</th>\n",
       "      <th>EstimatedSalary</th>\n",
       "      <th>Purchased</th>\n",
       "    </tr>\n",
       "  </thead>\n",
       "  <tbody>\n",
       "    <tr>\n",
       "      <th>count</th>\n",
       "      <td>400.000000</td>\n",
       "      <td>400.000000</td>\n",
       "      <td>400.000000</td>\n",
       "    </tr>\n",
       "    <tr>\n",
       "      <th>mean</th>\n",
       "      <td>37.655000</td>\n",
       "      <td>69742.500000</td>\n",
       "      <td>0.357500</td>\n",
       "    </tr>\n",
       "    <tr>\n",
       "      <th>std</th>\n",
       "      <td>10.482877</td>\n",
       "      <td>34096.960282</td>\n",
       "      <td>0.479864</td>\n",
       "    </tr>\n",
       "    <tr>\n",
       "      <th>min</th>\n",
       "      <td>18.000000</td>\n",
       "      <td>15000.000000</td>\n",
       "      <td>0.000000</td>\n",
       "    </tr>\n",
       "    <tr>\n",
       "      <th>25%</th>\n",
       "      <td>29.750000</td>\n",
       "      <td>43000.000000</td>\n",
       "      <td>0.000000</td>\n",
       "    </tr>\n",
       "    <tr>\n",
       "      <th>50%</th>\n",
       "      <td>37.000000</td>\n",
       "      <td>70000.000000</td>\n",
       "      <td>0.000000</td>\n",
       "    </tr>\n",
       "    <tr>\n",
       "      <th>75%</th>\n",
       "      <td>46.000000</td>\n",
       "      <td>88000.000000</td>\n",
       "      <td>1.000000</td>\n",
       "    </tr>\n",
       "    <tr>\n",
       "      <th>max</th>\n",
       "      <td>60.000000</td>\n",
       "      <td>150000.000000</td>\n",
       "      <td>1.000000</td>\n",
       "    </tr>\n",
       "  </tbody>\n",
       "</table>\n",
       "</div>"
      ],
      "text/plain": [
       "              Age  EstimatedSalary   Purchased\n",
       "count  400.000000       400.000000  400.000000\n",
       "mean    37.655000     69742.500000    0.357500\n",
       "std     10.482877     34096.960282    0.479864\n",
       "min     18.000000     15000.000000    0.000000\n",
       "25%     29.750000     43000.000000    0.000000\n",
       "50%     37.000000     70000.000000    0.000000\n",
       "75%     46.000000     88000.000000    1.000000\n",
       "max     60.000000    150000.000000    1.000000"
      ]
     },
     "execution_count": 6,
     "metadata": {},
     "output_type": "execute_result"
    }
   ],
   "source": [
    "df.describe()"
   ]
  },
  {
   "cell_type": "code",
   "execution_count": 7,
   "id": "unexpected-running",
   "metadata": {
    "ExecuteTime": {
     "end_time": "2022-07-17T06:00:05.736674Z",
     "start_time": "2022-07-17T06:00:05.534281Z"
    },
    "execution": {
     "iopub.execute_input": "2021-06-27T05:44:07.973928Z",
     "iopub.status.busy": "2021-06-27T05:44:07.973291Z",
     "iopub.status.idle": "2021-06-27T05:44:08.154259Z",
     "shell.execute_reply": "2021-06-27T05:44:08.153596Z",
     "shell.execute_reply.started": "2021-06-27T05:32:45.846186Z"
    },
    "executionInfo": {
     "elapsed": 15,
     "status": "ok",
     "timestamp": 1624764006437,
     "user": {
      "displayName": "Dave Ng",
      "photoUrl": "https://lh3.googleusercontent.com/a-/AOh14GgonRm27MsGqoj6VBdYHSPgZwrgEH99_VpwU7OMzQ=s64",
      "userId": "11648937927449049695"
     },
     "user_tz": -480
    },
    "id": "cpbSDwkZVYlt",
    "outputId": "e37ab094-6c54-498a-9ddd-bf420ec90d36",
    "papermill": {
     "duration": 0.232616,
     "end_time": "2021-06-27T05:44:08.154402",
     "exception": false,
     "start_time": "2021-06-27T05:44:07.921786",
     "status": "completed"
    },
    "tags": []
   },
   "outputs": [
    {
     "data": {
      "text/plain": [
       "<AxesSubplot:title={'center':'Count of purchased'}, xlabel='Purchased', ylabel='count'>"
      ]
     },
     "execution_count": 7,
     "metadata": {},
     "output_type": "execute_result"
    },
    {
     "data": {
      "image/png": "[encoded data removed]",
      "text/plain": [
       "<Figure size 1440x720 with 1 Axes>"
      ]
     },
     "metadata": {
      "needs_background": "light"
     },
     "output_type": "display_data"
    }
   ],
   "source": [
    "plt.figure(figsize=(20, 10))\n",
    "plt.title('Count of purchased')\n",
    "sns.countplot(data=df, x='Purchased')"
   ]
  },
  {
   "cell_type": "markdown",
   "id": "american-indian",
   "metadata": {
    "id": "LywpxAQYVYlv",
    "papermill": {
     "duration": 0.049245,
     "end_time": "2021-06-27T05:44:08.252360",
     "exception": false,
     "start_time": "2021-06-27T05:44:08.203115",
     "status": "completed"
    },
    "tags": []
   },
   "source": [
    "It looks like a little in-balance in the dataset"
   ]
  },
  {
   "cell_type": "code",
   "execution_count": 8,
   "id": "adjustable-sponsorship",
   "metadata": {
    "ExecuteTime": {
     "end_time": "2022-07-17T06:00:06.079952Z",
     "start_time": "2022-07-17T06:00:05.738670Z"
    },
    "execution": {
     "iopub.execute_input": "2021-06-27T05:44:08.382602Z",
     "iopub.status.busy": "2021-06-27T05:44:08.377303Z",
     "iopub.status.idle": "2021-06-27T05:44:08.656992Z",
     "shell.execute_reply": "2021-06-27T05:44:08.656484Z",
     "shell.execute_reply.started": "2021-06-27T05:32:45.995258Z"
    },
    "executionInfo": {
     "elapsed": 814,
     "status": "ok",
     "timestamp": 1624764007240,
     "user": {
      "displayName": "Dave Ng",
      "photoUrl": "https://lh3.googleusercontent.com/a-/AOh14GgonRm27MsGqoj6VBdYHSPgZwrgEH99_VpwU7OMzQ=s64",
      "userId": "11648937927449049695"
     },
     "user_tz": -480
    },
    "id": "Ia8iRW5YVYlv",
    "outputId": "9728ef0f-a989-4574-ee37-d52f75060e2d",
    "papermill": {
     "duration": 0.354379,
     "end_time": "2021-06-27T05:44:08.657148",
     "exception": false,
     "start_time": "2021-06-27T05:44:08.302769",
     "status": "completed"
    },
    "tags": []
   },
   "outputs": [
    {
     "data": {
      "text/plain": [
       "<AxesSubplot:title={'center':'Histogram of Age'}, xlabel='Age', ylabel='Count'>"
      ]
     },
     "execution_count": 8,
     "metadata": {},
     "output_type": "execute_result"
    },
    {
     "data": {
      "image/png": "[encoded data removed]",
      "text/plain": [
       "<Figure size 1440x720 with 1 Axes>"
      ]
     },
     "metadata": {
      "needs_background": "light"
     },
     "output_type": "display_data"
    }
   ],
   "source": [
    "plt.figure(figsize=(20, 10))\n",
    "plt.title('Histogram of Age')\n",
    "sns.histplot(data=df, x='Age', bins=40, kde=True)"
   ]
  },
  {
   "cell_type": "code",
   "execution_count": 9,
   "id": "enormous-matter",
   "metadata": {
    "ExecuteTime": {
     "end_time": "2022-07-17T06:00:06.378604Z",
     "start_time": "2022-07-17T06:00:06.084957Z"
    },
    "execution": {
     "iopub.execute_input": "2021-06-27T05:44:08.783310Z",
     "iopub.status.busy": "2021-06-27T05:44:08.763030Z",
     "iopub.status.idle": "2021-06-27T05:44:09.009003Z",
     "shell.execute_reply": "2021-06-27T05:44:09.008330Z",
     "shell.execute_reply.started": "2021-06-27T05:32:46.273423Z"
    },
    "executionInfo": {
     "elapsed": 13,
     "status": "ok",
     "timestamp": 1624764007242,
     "user": {
      "displayName": "Dave Ng",
      "photoUrl": "https://lh3.googleusercontent.com/a-/AOh14GgonRm27MsGqoj6VBdYHSPgZwrgEH99_VpwU7OMzQ=s64",
      "userId": "11648937927449049695"
     },
     "user_tz": -480
    },
    "id": "g-a9TIJlVYlv",
    "outputId": "e0cc868d-cbda-4e6a-c33f-4d6773ab596c",
    "papermill": {
     "duration": 0.301686,
     "end_time": "2021-06-27T05:44:09.009145",
     "exception": false,
     "start_time": "2021-06-27T05:44:08.707459",
     "status": "completed"
    },
    "tags": []
   },
   "outputs": [
    {
     "data": {
      "text/plain": [
       "<AxesSubplot:title={'center':'Histogram of Estimated Salary'}, xlabel='EstimatedSalary', ylabel='Count'>"
      ]
     },
     "execution_count": 9,
     "metadata": {},
     "output_type": "execute_result"
    },
    {
     "data": {
      "image/png": "[encoded data removed]",
      "text/plain": [
       "<Figure size 1440x720 with 1 Axes>"
      ]
     },
     "metadata": {
      "needs_background": "light"
     },
     "output_type": "display_data"
    }
   ],
   "source": [
    "plt.figure(figsize=(20, 10))\n",
    "plt.title('Histogram of Estimated Salary')\n",
    "sns.histplot(data=df, x='EstimatedSalary', bins=20, kde=True)"
   ]
  },
  {
   "cell_type": "code",
   "execution_count": 10,
   "id": "posted-jonathan",
   "metadata": {
    "ExecuteTime": {
     "end_time": "2022-07-17T06:00:06.743596Z",
     "start_time": "2022-07-17T06:00:06.380561Z"
    },
    "execution": {
     "iopub.execute_input": "2021-06-27T05:44:09.144470Z",
     "iopub.status.busy": "2021-06-27T05:44:09.143272Z",
     "iopub.status.idle": "2021-06-27T05:44:09.452036Z",
     "shell.execute_reply": "2021-06-27T05:44:09.452590Z",
     "shell.execute_reply.started": "2021-06-27T05:32:46.515626Z"
    },
    "executionInfo": {
     "elapsed": 1260,
     "status": "ok",
     "timestamp": 1624764008492,
     "user": {
      "displayName": "Dave Ng",
      "photoUrl": "https://lh3.googleusercontent.com/a-/AOh14GgonRm27MsGqoj6VBdYHSPgZwrgEH99_VpwU7OMzQ=s64",
      "userId": "11648937927449049695"
     },
     "user_tz": -480
    },
    "id": "yQRGk1v_VYlv",
    "outputId": "e8c640f7-871a-4ff4-ac51-896e73d04309",
    "papermill": {
     "duration": 0.392066,
     "end_time": "2021-06-27T05:44:09.452768",
     "exception": false,
     "start_time": "2021-06-27T05:44:09.060702",
     "status": "completed"
    },
    "tags": []
   },
   "outputs": [
    {
     "data": {
      "text/plain": [
       "<AxesSubplot:title={'center':'Plot of Estimated Salary vs Age vs Purchased'}, xlabel='Age', ylabel='EstimatedSalary'>"
      ]
     },
     "execution_count": 10,
     "metadata": {},
     "output_type": "execute_result"
    },
    {
     "data": {
      "image/png": "[encoded data removed]",
      "text/plain": [
       "<Figure size 1800x864 with 1 Axes>"
      ]
     },
     "metadata": {
      "needs_background": "light"
     },
     "output_type": "display_data"
    }
   ],
   "source": [
    "plt.figure(figsize=(25, 12))\n",
    "plt.title('Plot of Estimated Salary vs Age vs Purchased')\n",
    "sns.scatterplot(data=df, x='Age', y='EstimatedSalary', hue='Purchased', s=100)"
   ]
  },
  {
   "cell_type": "code",
   "execution_count": 11,
   "id": "exact-growing",
   "metadata": {
    "ExecuteTime": {
     "end_time": "2022-07-17T06:00:07.043912Z",
     "start_time": "2022-07-17T06:00:06.746914Z"
    },
    "execution": {
     "iopub.execute_input": "2021-06-27T05:44:09.584441Z",
     "iopub.status.busy": "2021-06-27T05:44:09.583765Z",
     "iopub.status.idle": "2021-06-27T05:44:09.917449Z",
     "shell.execute_reply": "2021-06-27T05:44:09.917931Z",
     "shell.execute_reply.started": "2021-06-27T05:32:46.801026Z"
    },
    "executionInfo": {
     "elapsed": 33,
     "status": "ok",
     "timestamp": 1624764008493,
     "user": {
      "displayName": "Dave Ng",
      "photoUrl": "https://lh3.googleusercontent.com/a-/AOh14GgonRm27MsGqoj6VBdYHSPgZwrgEH99_VpwU7OMzQ=s64",
      "userId": "11648937927449049695"
     },
     "user_tz": -480
    },
    "id": "nRJ43oWnV-1f",
    "outputId": "41ec78c0-62e8-4c72-d7e0-c2784725c78e",
    "papermill": {
     "duration": 0.410482,
     "end_time": "2021-06-27T05:44:09.918169",
     "exception": false,
     "start_time": "2021-06-27T05:44:09.507687",
     "status": "completed"
    },
    "tags": []
   },
   "outputs": [
    {
     "data": {
      "image/png": "[encoded data removed]",
      "text/plain": [
       "<Figure size 1080x864 with 2 Axes>"
      ]
     },
     "metadata": {
      "needs_background": "light"
     },
     "output_type": "display_data"
    }
   ],
   "source": [
    "plt.figure(figsize=(15, 12))\n",
    "plt.title('Heat map of Correlation')\n",
    "sns.heatmap(data=df.corr(), annot=True);"
   ]
  },
  {
   "cell_type": "markdown",
   "id": "amended-picnic",
   "metadata": {
    "id": "ZKWrmYfDVYlw",
    "papermill": {
     "duration": 0.055986,
     "end_time": "2021-06-27T05:44:10.034315",
     "exception": false,
     "start_time": "2021-06-27T05:44:09.978329",
     "status": "completed"
    },
    "tags": []
   },
   "source": [
    "# 5. Modelling"
   ]
  },
  {
   "cell_type": "code",
   "execution_count": 12,
   "id": "brazilian-investigation",
   "metadata": {
    "ExecuteTime": {
     "end_time": "2022-07-17T06:00:07.059761Z",
     "start_time": "2022-07-17T06:00:07.044875Z"
    },
    "execution": {
     "iopub.execute_input": "2021-06-27T05:44:10.170177Z",
     "iopub.status.busy": "2021-06-27T05:44:10.169139Z",
     "iopub.status.idle": "2021-06-27T05:44:10.178961Z",
     "shell.execute_reply": "2021-06-27T05:44:10.179609Z",
     "shell.execute_reply.started": "2021-06-27T05:32:47.127286Z"
    },
    "executionInfo": {
     "elapsed": 27,
     "status": "ok",
     "timestamp": 1624764008494,
     "user": {
      "displayName": "Dave Ng",
      "photoUrl": "https://lh3.googleusercontent.com/a-/AOh14GgonRm27MsGqoj6VBdYHSPgZwrgEH99_VpwU7OMzQ=s64",
      "userId": "11648937927449049695"
     },
     "user_tz": -480
    },
    "id": "eps7s_caVYlw",
    "outputId": "72be343c-ad24-4808-d1a0-00e3fd0299c6",
    "papermill": {
     "duration": 0.08722,
     "end_time": "2021-06-27T05:44:10.179790",
     "exception": false,
     "start_time": "2021-06-27T05:44:10.092570",
     "status": "completed"
    },
    "tags": []
   },
   "outputs": [
    {
     "data": {
      "text/html": [
       "<div>\n",
       "<style scoped>\n",
       "    .dataframe tbody tr th:only-of-type {\n",
       "        vertical-align: middle;\n",
       "    }\n",
       "\n",
       "    .dataframe tbody tr th {\n",
       "        vertical-align: top;\n",
       "    }\n",
       "\n",
       "    .dataframe thead th {\n",
       "        text-align: right;\n",
       "    }\n",
       "</style>\n",
       "<table border=\"1\" class=\"dataframe\">\n",
       "  <thead>\n",
       "    <tr style=\"text-align: right;\">\n",
       "      <th></th>\n",
       "      <th>Age</th>\n",
       "      <th>EstimatedSalary</th>\n",
       "      <th>Purchased</th>\n",
       "    </tr>\n",
       "  </thead>\n",
       "  <tbody>\n",
       "    <tr>\n",
       "      <th>0</th>\n",
       "      <td>19</td>\n",
       "      <td>19000</td>\n",
       "      <td>0</td>\n",
       "    </tr>\n",
       "    <tr>\n",
       "      <th>1</th>\n",
       "      <td>35</td>\n",
       "      <td>20000</td>\n",
       "      <td>0</td>\n",
       "    </tr>\n",
       "    <tr>\n",
       "      <th>2</th>\n",
       "      <td>26</td>\n",
       "      <td>43000</td>\n",
       "      <td>0</td>\n",
       "    </tr>\n",
       "    <tr>\n",
       "      <th>3</th>\n",
       "      <td>27</td>\n",
       "      <td>57000</td>\n",
       "      <td>0</td>\n",
       "    </tr>\n",
       "    <tr>\n",
       "      <th>4</th>\n",
       "      <td>19</td>\n",
       "      <td>76000</td>\n",
       "      <td>0</td>\n",
       "    </tr>\n",
       "  </tbody>\n",
       "</table>\n",
       "</div>"
      ],
      "text/plain": [
       "   Age  EstimatedSalary  Purchased\n",
       "0   19            19000          0\n",
       "1   35            20000          0\n",
       "2   26            43000          0\n",
       "3   27            57000          0\n",
       "4   19            76000          0"
      ]
     },
     "execution_count": 12,
     "metadata": {},
     "output_type": "execute_result"
    }
   ],
   "source": [
    "df.head()"
   ]
  },
  {
   "cell_type": "code",
   "execution_count": 13,
   "id": "compressed-isolation",
   "metadata": {
    "ExecuteTime": {
     "end_time": "2022-07-17T06:00:07.106991Z",
     "start_time": "2022-07-17T06:00:07.061757Z"
    },
    "execution": {
     "iopub.execute_input": "2021-06-27T05:44:10.311796Z",
     "iopub.status.busy": "2021-06-27T05:44:10.310830Z",
     "iopub.status.idle": "2021-06-27T05:44:10.322189Z",
     "shell.execute_reply": "2021-06-27T05:44:10.322908Z",
     "shell.execute_reply.started": "2021-06-27T05:32:47.141490Z"
    },
    "executionInfo": {
     "elapsed": 25,
     "status": "ok",
     "timestamp": 1624764008495,
     "user": {
      "displayName": "Dave Ng",
      "photoUrl": "https://lh3.googleusercontent.com/a-/AOh14GgonRm27MsGqoj6VBdYHSPgZwrgEH99_VpwU7OMzQ=s64",
      "userId": "11648937927449049695"
     },
     "user_tz": -480
    },
    "id": "Zj1tcs7dWl4Z",
    "outputId": "c5f949b4-6338-4ec3-8d25-aa89464706e2",
    "papermill": {
     "duration": 0.076686,
     "end_time": "2021-06-27T05:44:10.323204",
     "exception": false,
     "start_time": "2021-06-27T05:44:10.246518",
     "status": "completed"
    },
    "tags": []
   },
   "outputs": [
    {
     "data": {
      "text/plain": [
       "Age                0\n",
       "EstimatedSalary    0\n",
       "Purchased          0\n",
       "dtype: int64"
      ]
     },
     "execution_count": 13,
     "metadata": {},
     "output_type": "execute_result"
    }
   ],
   "source": [
    "df.isnull().sum()"
   ]
  },
  {
   "cell_type": "code",
   "execution_count": 14,
   "id": "civic-antibody",
   "metadata": {
    "ExecuteTime": {
     "end_time": "2022-07-17T06:00:07.122943Z",
     "start_time": "2022-07-17T06:00:07.108948Z"
    },
    "execution": {
     "iopub.execute_input": "2021-06-27T05:44:10.462781Z",
     "iopub.status.busy": "2021-06-27T05:44:10.461821Z",
     "iopub.status.idle": "2021-06-27T05:44:10.465189Z",
     "shell.execute_reply": "2021-06-27T05:44:10.464646Z",
     "shell.execute_reply.started": "2021-06-27T05:32:47.157796Z"
    },
    "executionInfo": {
     "elapsed": 23,
     "status": "ok",
     "timestamp": 1624764008496,
     "user": {
      "displayName": "Dave Ng",
      "photoUrl": "https://lh3.googleusercontent.com/a-/AOh14GgonRm27MsGqoj6VBdYHSPgZwrgEH99_VpwU7OMzQ=s64",
      "userId": "11648937927449049695"
     },
     "user_tz": -480
    },
    "id": "4QM9bJ2nWTFl",
    "papermill": {
     "duration": 0.072991,
     "end_time": "2021-06-27T05:44:10.465343",
     "exception": false,
     "start_time": "2021-06-27T05:44:10.392352",
     "status": "completed"
    },
    "tags": []
   },
   "outputs": [],
   "source": [
    "X = df.drop('Purchased', axis=1)\n",
    "y = df['Purchased']"
   ]
  },
  {
   "cell_type": "code",
   "execution_count": 15,
   "id": "clean-chapel",
   "metadata": {
    "ExecuteTime": {
     "end_time": "2022-07-17T06:00:07.360912Z",
     "start_time": "2022-07-17T06:00:07.124904Z"
    },
    "execution": {
     "iopub.execute_input": "2021-06-27T05:44:10.588970Z",
     "iopub.status.busy": "2021-06-27T05:44:10.588319Z",
     "iopub.status.idle": "2021-06-27T05:44:10.833221Z",
     "shell.execute_reply": "2021-06-27T05:44:10.832587Z",
     "shell.execute_reply.started": "2021-06-27T05:32:47.171964Z"
    },
    "executionInfo": {
     "elapsed": 23,
     "status": "ok",
     "timestamp": 1624764008498,
     "user": {
      "displayName": "Dave Ng",
      "photoUrl": "https://lh3.googleusercontent.com/a-/AOh14GgonRm27MsGqoj6VBdYHSPgZwrgEH99_VpwU7OMzQ=s64",
      "userId": "11648937927449049695"
     },
     "user_tz": -480
    },
    "id": "7lXXPXQEWZIN",
    "papermill": {
     "duration": 0.307418,
     "end_time": "2021-06-27T05:44:10.833377",
     "exception": false,
     "start_time": "2021-06-27T05:44:10.525959",
     "status": "completed"
    },
    "tags": []
   },
   "outputs": [],
   "source": [
    "from sklearn.model_selection import train_test_split\n",
    "from sklearn.preprocessing import StandardScaler"
   ]
  },
  {
   "cell_type": "code",
   "execution_count": 16,
   "id": "liberal-tractor",
   "metadata": {
    "ExecuteTime": {
     "end_time": "2022-07-17T06:00:07.376389Z",
     "start_time": "2022-07-17T06:00:07.363904Z"
    },
    "execution": {
     "iopub.execute_input": "2021-06-27T05:44:10.961392Z",
     "iopub.status.busy": "2021-06-27T05:44:10.960269Z",
     "iopub.status.idle": "2021-06-27T05:44:10.963608Z",
     "shell.execute_reply": "2021-06-27T05:44:10.964095Z",
     "shell.execute_reply.started": "2021-06-27T05:32:47.187373Z"
    },
    "executionInfo": {
     "elapsed": 24,
     "status": "ok",
     "timestamp": 1624764008500,
     "user": {
      "displayName": "Dave Ng",
      "photoUrl": "https://lh3.googleusercontent.com/a-/AOh14GgonRm27MsGqoj6VBdYHSPgZwrgEH99_VpwU7OMzQ=s64",
      "userId": "11648937927449049695"
     },
     "user_tz": -480
    },
    "id": "5eng0G7qWq-H",
    "papermill": {
     "duration": 0.069157,
     "end_time": "2021-06-27T05:44:10.964277",
     "exception": false,
     "start_time": "2021-06-27T05:44:10.895120",
     "status": "completed"
    },
    "tags": []
   },
   "outputs": [],
   "source": [
    "X_train, X_test, y_train, y_test = train_test_split(X,\n",
    "                                                    y,\n",
    "                                                    test_size=0.2,\n",
    "                                                    random_state=42)"
   ]
  },
  {
   "cell_type": "code",
   "execution_count": 17,
   "id": "pregnant-zealand",
   "metadata": {
    "ExecuteTime": {
     "end_time": "2022-07-17T06:00:07.439568Z",
     "start_time": "2022-07-17T06:00:07.378629Z"
    },
    "execution": {
     "iopub.execute_input": "2021-06-27T05:44:11.091145Z",
     "iopub.status.busy": "2021-06-27T05:44:11.086779Z",
     "iopub.status.idle": "2021-06-27T05:44:11.094710Z",
     "shell.execute_reply": "2021-06-27T05:44:11.094019Z",
     "shell.execute_reply.started": "2021-06-27T05:32:47.203067Z"
    },
    "executionInfo": {
     "elapsed": 25,
     "status": "ok",
     "timestamp": 1624764008501,
     "user": {
      "displayName": "Dave Ng",
      "photoUrl": "https://lh3.googleusercontent.com/a-/AOh14GgonRm27MsGqoj6VBdYHSPgZwrgEH99_VpwU7OMzQ=s64",
      "userId": "11648937927449049695"
     },
     "user_tz": -480
    },
    "id": "a2QrDlaZWs7v",
    "papermill": {
     "duration": 0.073403,
     "end_time": "2021-06-27T05:44:11.094858",
     "exception": false,
     "start_time": "2021-06-27T05:44:11.021455",
     "status": "completed"
    },
    "tags": []
   },
   "outputs": [],
   "source": [
    "scaler = StandardScaler()\n",
    "X_train = scaler.fit_transform(X_train)\n",
    "X_test = scaler.transform(X_test)"
   ]
  },
  {
   "cell_type": "markdown",
   "id": "aware-manitoba",
   "metadata": {
    "id": "4XPqnbXHWv0I",
    "papermill": {
     "duration": 0.057477,
     "end_time": "2021-06-27T05:44:11.209783",
     "exception": false,
     "start_time": "2021-06-27T05:44:11.152306",
     "status": "completed"
    },
    "tags": []
   },
   "source": [
    "## Model imports"
   ]
  },
  {
   "cell_type": "code",
   "execution_count": 18,
   "id": "threatened-indonesian",
   "metadata": {
    "ExecuteTime": {
     "end_time": "2022-07-17T06:00:07.646658Z",
     "start_time": "2022-07-17T06:00:07.442562Z"
    },
    "execution": {
     "iopub.execute_input": "2021-06-27T05:44:11.328934Z",
     "iopub.status.busy": "2021-06-27T05:44:11.328274Z",
     "iopub.status.idle": "2021-06-27T05:44:11.958728Z",
     "shell.execute_reply": "2021-06-27T05:44:11.958153Z",
     "shell.execute_reply.started": "2021-06-27T05:38:57.491972Z"
    },
    "executionInfo": {
     "elapsed": 24,
     "status": "ok",
     "timestamp": 1624764008502,
     "user": {
      "displayName": "Dave Ng",
      "photoUrl": "https://lh3.googleusercontent.com/a-/AOh14GgonRm27MsGqoj6VBdYHSPgZwrgEH99_VpwU7OMzQ=s64",
      "userId": "11648937927449049695"
     },
     "user_tz": -480
    },
    "id": "n0P58TjoXBoB",
    "papermill": {
     "duration": 0.691727,
     "end_time": "2021-06-27T05:44:11.958875",
     "exception": false,
     "start_time": "2021-06-27T05:44:11.267148",
     "status": "completed"
    },
    "tags": []
   },
   "outputs": [],
   "source": [
    "from sklearn.linear_model import LogisticRegression\n",
    "from sklearn.neighbors import KNeighborsClassifier\n",
    "from sklearn.svm import SVC\n",
    "from sklearn.tree import DecisionTreeClassifier\n",
    "from sklearn.ensemble import RandomForestClassifier, AdaBoostClassifier, GradientBoostingClassifier\n",
    "from xgboost import XGBClassifier, XGBRFClassifier"
   ]
  },
  {
   "cell_type": "markdown",
   "id": "juvenile-ballot",
   "metadata": {
    "id": "I-c22G6sXJVB",
    "papermill": {
     "duration": 0.057582,
     "end_time": "2021-06-27T05:44:12.073397",
     "exception": false,
     "start_time": "2021-06-27T05:44:12.015815",
     "status": "completed"
    },
    "tags": []
   },
   "source": [
    "## Baseline Modelling"
   ]
  },
  {
   "cell_type": "code",
   "execution_count": 19,
   "id": "living-madrid",
   "metadata": {
    "ExecuteTime": {
     "end_time": "2022-07-17T06:00:07.662614Z",
     "start_time": "2022-07-17T06:00:07.648651Z"
    },
    "execution": {
     "iopub.execute_input": "2021-06-27T05:44:12.196669Z",
     "iopub.status.busy": "2021-06-27T05:44:12.195930Z",
     "iopub.status.idle": "2021-06-27T05:44:12.199428Z",
     "shell.execute_reply": "2021-06-27T05:44:12.198745Z",
     "shell.execute_reply.started": "2021-06-27T05:38:58.789615Z"
    },
    "executionInfo": {
     "elapsed": 23,
     "status": "ok",
     "timestamp": 1624764008502,
     "user": {
      "displayName": "Dave Ng",
      "photoUrl": "https://lh3.googleusercontent.com/a-/AOh14GgonRm27MsGqoj6VBdYHSPgZwrgEH99_VpwU7OMzQ=s64",
      "userId": "11648937927449049695"
     },
     "user_tz": -480
    },
    "id": "IIN-V1VdXN15",
    "papermill": {
     "duration": 0.068349,
     "end_time": "2021-06-27T05:44:12.199590",
     "exception": false,
     "start_time": "2021-06-27T05:44:12.131241",
     "status": "completed"
    },
    "tags": []
   },
   "outputs": [],
   "source": [
    "def fit_and_score(models, X_train, X_test, y_train, y_test):\n",
    "    np.random.seed(42)\n",
    "\n",
    "    model_scores = {}\n",
    "\n",
    "    for name, model in models.items():\n",
    "        model.fit(X_train, y_train)\n",
    "        model_scores[name] = model.score(X_test, y_test)\n",
    "\n",
    "    model_scores = pd.DataFrame(model_scores, index=['Score']).transpose()\n",
    "    model_scores = model_scores.sort_values('Score')\n",
    "\n",
    "    return model_scores"
   ]
  },
  {
   "cell_type": "code",
   "execution_count": 20,
   "id": "pretty-glenn",
   "metadata": {
    "ExecuteTime": {
     "end_time": "2022-07-17T06:00:07.677576Z",
     "start_time": "2022-07-17T06:00:07.664608Z"
    },
    "execution": {
     "iopub.execute_input": "2021-06-27T05:44:12.322206Z",
     "iopub.status.busy": "2021-06-27T05:44:12.321488Z",
     "iopub.status.idle": "2021-06-27T05:44:12.324644Z",
     "shell.execute_reply": "2021-06-27T05:44:12.323962Z",
     "shell.execute_reply.started": "2021-06-27T05:39:00.005166Z"
    },
    "executionInfo": {
     "elapsed": 23,
     "status": "ok",
     "timestamp": 1624764008503,
     "user": {
      "displayName": "Dave Ng",
      "photoUrl": "https://lh3.googleusercontent.com/a-/AOh14GgonRm27MsGqoj6VBdYHSPgZwrgEH99_VpwU7OMzQ=s64",
      "userId": "11648937927449049695"
     },
     "user_tz": -480
    },
    "id": "_UnVcg6wXYPT",
    "papermill": {
     "duration": 0.066322,
     "end_time": "2021-06-27T05:44:12.324786",
     "exception": false,
     "start_time": "2021-06-27T05:44:12.258464",
     "status": "completed"
    },
    "tags": []
   },
   "outputs": [],
   "source": [
    "models = {\n",
    "    'LogisticRegression': LogisticRegression(max_iter=10000),\n",
    "    'KNeighborsClassifier': KNeighborsClassifier(),\n",
    "    'SVC': SVC(),\n",
    "    'DecisionTreeClassifier': DecisionTreeClassifier(),\n",
    "    'RandomForestClassifier': RandomForestClassifier(),\n",
    "    'AdaBoostClassifier': AdaBoostClassifier(),\n",
    "    'GradientBoostingClassifier': GradientBoostingClassifier(),\n",
    "    'XGBClassifier': XGBClassifier(eval_metric='mlogloss'),\n",
    "    'XGBRFClassifier': XGBRFClassifier(eval_metric='mlogloss')\n",
    "}"
   ]
  },
  {
   "cell_type": "code",
   "execution_count": 21,
   "id": "experimental-approval",
   "metadata": {
    "ExecuteTime": {
     "end_time": "2022-07-17T06:00:08.312757Z",
     "start_time": "2022-07-17T06:00:07.679571Z"
    },
    "execution": {
     "iopub.execute_input": "2021-06-27T05:44:12.447324Z",
     "iopub.status.busy": "2021-06-27T05:44:12.445626Z",
     "iopub.status.idle": "2021-06-27T05:44:12.956396Z",
     "shell.execute_reply": "2021-06-27T05:44:12.957465Z",
     "shell.execute_reply.started": "2021-06-27T05:39:00.742266Z"
    },
    "executionInfo": {
     "elapsed": 652,
     "status": "ok",
     "timestamp": 1624764009133,
     "user": {
      "displayName": "Dave Ng",
      "photoUrl": "https://lh3.googleusercontent.com/a-/AOh14GgonRm27MsGqoj6VBdYHSPgZwrgEH99_VpwU7OMzQ=s64",
      "userId": "11648937927449049695"
     },
     "user_tz": -480
    },
    "id": "JcGxitWtXdrT",
    "papermill": {
     "duration": 0.5751,
     "end_time": "2021-06-27T05:44:12.957831",
     "exception": false,
     "start_time": "2021-06-27T05:44:12.382731",
     "status": "completed"
    },
    "tags": []
   },
   "outputs": [],
   "source": [
    "baseline_model_scores = fit_and_score(models, X_train, X_test, y_train, y_test)"
   ]
  },
  {
   "cell_type": "code",
   "execution_count": 22,
   "id": "sophisticated-oliver",
   "metadata": {
    "ExecuteTime": {
     "end_time": "2022-07-17T06:00:08.343717Z",
     "start_time": "2022-07-17T06:00:08.315749Z"
    },
    "execution": {
     "iopub.execute_input": "2021-06-27T05:44:13.082576Z",
     "iopub.status.busy": "2021-06-27T05:44:13.081906Z",
     "iopub.status.idle": "2021-06-27T05:44:13.088231Z",
     "shell.execute_reply": "2021-06-27T05:44:13.087677Z",
     "shell.execute_reply.started": "2021-06-27T05:39:02.308111Z"
    },
    "executionInfo": {
     "elapsed": 36,
     "status": "ok",
     "timestamp": 1624764009136,
     "user": {
      "displayName": "Dave Ng",
      "photoUrl": "https://lh3.googleusercontent.com/a-/AOh14GgonRm27MsGqoj6VBdYHSPgZwrgEH99_VpwU7OMzQ=s64",
      "userId": "11648937927449049695"
     },
     "user_tz": -480
    },
    "id": "eC-N_ShJXheG",
    "outputId": "974c7d44-dbcf-4e60-b118-62a5cc4232ec",
    "papermill": {
     "duration": 0.071323,
     "end_time": "2021-06-27T05:44:13.088394",
     "exception": false,
     "start_time": "2021-06-27T05:44:13.017071",
     "status": "completed"
    },
    "tags": []
   },
   "outputs": [
    {
     "data": {
      "text/html": [
       "<div>\n",
       "<style scoped>\n",
       "    .dataframe tbody tr th:only-of-type {\n",
       "        vertical-align: middle;\n",
       "    }\n",
       "\n",
       "    .dataframe tbody tr th {\n",
       "        vertical-align: top;\n",
       "    }\n",
       "\n",
       "    .dataframe thead th {\n",
       "        text-align: right;\n",
       "    }\n",
       "</style>\n",
       "<table border=\"1\" class=\"dataframe\">\n",
       "  <thead>\n",
       "    <tr style=\"text-align: right;\">\n",
       "      <th></th>\n",
       "      <th>Score</th>\n",
       "    </tr>\n",
       "  </thead>\n",
       "  <tbody>\n",
       "    <tr>\n",
       "      <th>DecisionTreeClassifier</th>\n",
       "      <td>0.8375</td>\n",
       "    </tr>\n",
       "    <tr>\n",
       "      <th>LogisticRegression</th>\n",
       "      <td>0.8625</td>\n",
       "    </tr>\n",
       "    <tr>\n",
       "      <th>GradientBoostingClassifier</th>\n",
       "      <td>0.8625</td>\n",
       "    </tr>\n",
       "    <tr>\n",
       "      <th>RandomForestClassifier</th>\n",
       "      <td>0.8875</td>\n",
       "    </tr>\n",
       "    <tr>\n",
       "      <th>AdaBoostClassifier</th>\n",
       "      <td>0.8875</td>\n",
       "    </tr>\n",
       "    <tr>\n",
       "      <th>KNeighborsClassifier</th>\n",
       "      <td>0.9125</td>\n",
       "    </tr>\n",
       "    <tr>\n",
       "      <th>XGBClassifier</th>\n",
       "      <td>0.9125</td>\n",
       "    </tr>\n",
       "    <tr>\n",
       "      <th>SVC</th>\n",
       "      <td>0.9250</td>\n",
       "    </tr>\n",
       "    <tr>\n",
       "      <th>XGBRFClassifier</th>\n",
       "      <td>0.9250</td>\n",
       "    </tr>\n",
       "  </tbody>\n",
       "</table>\n",
       "</div>"
      ],
      "text/plain": [
       "                             Score\n",
       "DecisionTreeClassifier      0.8375\n",
       "LogisticRegression          0.8625\n",
       "GradientBoostingClassifier  0.8625\n",
       "RandomForestClassifier      0.8875\n",
       "AdaBoostClassifier          0.8875\n",
       "KNeighborsClassifier        0.9125\n",
       "XGBClassifier               0.9125\n",
       "SVC                         0.9250\n",
       "XGBRFClassifier             0.9250"
      ]
     },
     "execution_count": 22,
     "metadata": {},
     "output_type": "execute_result"
    }
   ],
   "source": [
    "baseline_model_scores.sort_values('Score')"
   ]
  },
  {
   "cell_type": "code",
   "execution_count": 23,
   "id": "choice-polish",
   "metadata": {
    "ExecuteTime": {
     "end_time": "2022-07-17T06:00:08.645130Z",
     "start_time": "2022-07-17T06:00:08.346221Z"
    },
    "execution": {
     "iopub.execute_input": "2021-06-27T05:44:13.241361Z",
     "iopub.status.busy": "2021-06-27T05:44:13.238512Z",
     "iopub.status.idle": "2021-06-27T05:44:13.433834Z",
     "shell.execute_reply": "2021-06-27T05:44:13.434370Z",
     "shell.execute_reply.started": "2021-06-27T05:39:14.670681Z"
    },
    "executionInfo": {
     "elapsed": 34,
     "status": "ok",
     "timestamp": 1624764009138,
     "user": {
      "displayName": "Dave Ng",
      "photoUrl": "https://lh3.googleusercontent.com/a-/AOh14GgonRm27MsGqoj6VBdYHSPgZwrgEH99_VpwU7OMzQ=s64",
      "userId": "11648937927449049695"
     },
     "user_tz": -480
    },
    "id": "71z0hbS3Xi8L",
    "outputId": "4a6454ce-beee-4e65-8a26-e8f3058e8397",
    "papermill": {
     "duration": 0.286025,
     "end_time": "2021-06-27T05:44:13.434547",
     "exception": false,
     "start_time": "2021-06-27T05:44:13.148522",
     "status": "completed"
    },
    "tags": []
   },
   "outputs": [
    {
     "data": {
      "text/plain": [
       "(array([0, 1, 2, 3, 4, 5, 6, 7, 8]),\n",
       " [Text(0, 0, 'DecisionTreeClassifier'),\n",
       "  Text(1, 0, 'LogisticRegression'),\n",
       "  Text(2, 0, 'GradientBoostingClassifier'),\n",
       "  Text(3, 0, 'RandomForestClassifier'),\n",
       "  Text(4, 0, 'AdaBoostClassifier'),\n",
       "  Text(5, 0, 'KNeighborsClassifier'),\n",
       "  Text(6, 0, 'XGBClassifier'),\n",
       "  Text(7, 0, 'SVC'),\n",
       "  Text(8, 0, 'XGBRFClassifier')])"
      ]
     },
     "execution_count": 23,
     "metadata": {},
     "output_type": "execute_result"
    },
    {
     "data": {
      "image/png": "[encoded data removed]",
      "text/plain": [
       "<Figure size 1440x720 with 1 Axes>"
      ]
     },
     "metadata": {
      "needs_background": "light"
     },
     "output_type": "display_data"
    }
   ],
   "source": [
    "plt.figure(figsize=(20, 10))\n",
    "sns.barplot(data=baseline_model_scores.sort_values('Score').T)\n",
    "plt.title('Baseline Model Precision Score')\n",
    "plt.xticks(rotation=90)"
   ]
  },
  {
   "cell_type": "markdown",
   "id": "decimal-while",
   "metadata": {
    "id": "fb5o6tebXmKd",
    "papermill": {
     "duration": 0.05911,
     "end_time": "2021-06-27T05:44:13.555229",
     "exception": false,
     "start_time": "2021-06-27T05:44:13.496119",
     "status": "completed"
    },
    "tags": []
   },
   "source": [
    "From the baseline modeling, we will choose the follow model to have an in-depth look:\n",
    "\n",
    "1. KNeighborsClassifier \t0.9125\n",
    "2. XGBClassifier \t0.9125\n",
    "3. XGBRFClassifier \t0.9125\n",
    "4. SVC \t0.9250"
   ]
  },
  {
   "cell_type": "markdown",
   "id": "developed-speaker",
   "metadata": {
    "id": "wzIK2idhY7AC",
    "papermill": {
     "duration": 0.058233,
     "end_time": "2021-06-27T05:44:13.671871",
     "exception": false,
     "start_time": "2021-06-27T05:44:13.613638",
     "status": "completed"
    },
    "tags": []
   },
   "source": [
    "## HyperTuning using Random Search CV"
   ]
  },
  {
   "cell_type": "code",
   "execution_count": 24,
   "id": "accepting-coalition",
   "metadata": {
    "ExecuteTime": {
     "end_time": "2022-07-17T06:00:08.660600Z",
     "start_time": "2022-07-17T06:00:08.647126Z"
    },
    "execution": {
     "iopub.execute_input": "2021-06-27T05:44:13.797424Z",
     "iopub.status.busy": "2021-06-27T05:44:13.796428Z",
     "iopub.status.idle": "2021-06-27T05:44:13.799802Z",
     "shell.execute_reply": "2021-06-27T05:44:13.799252Z",
     "shell.execute_reply.started": "2021-06-27T05:32:47.992365Z"
    },
    "executionInfo": {
     "elapsed": 383,
     "status": "ok",
     "timestamp": 1624764815176,
     "user": {
      "displayName": "Dave Ng",
      "photoUrl": "https://lh3.googleusercontent.com/a-/AOh14GgonRm27MsGqoj6VBdYHSPgZwrgEH99_VpwU7OMzQ=s64",
      "userId": "11648937927449049695"
     },
     "user_tz": -480
    },
    "id": "U8QZJqN9ZAun",
    "papermill": {
     "duration": 0.066339,
     "end_time": "2021-06-27T05:44:13.799939",
     "exception": false,
     "start_time": "2021-06-27T05:44:13.733600",
     "status": "completed"
    },
    "tags": []
   },
   "outputs": [],
   "source": [
    "from sklearn.model_selection import RandomizedSearchCV\n",
    "from warnings import filterwarnings"
   ]
  },
  {
   "cell_type": "code",
   "execution_count": 25,
   "id": "standing-matrix",
   "metadata": {
    "ExecuteTime": {
     "end_time": "2022-07-17T06:00:08.708258Z",
     "start_time": "2022-07-17T06:00:08.662595Z"
    },
    "execution": {
     "iopub.execute_input": "2021-06-27T05:44:13.922051Z",
     "iopub.status.busy": "2021-06-27T05:44:13.921120Z",
     "iopub.status.idle": "2021-06-27T05:44:13.924451Z",
     "shell.execute_reply": "2021-06-27T05:44:13.923879Z",
     "shell.execute_reply.started": "2021-06-27T05:32:47.997543Z"
    },
    "executionInfo": {
     "elapsed": 6,
     "status": "ok",
     "timestamp": 1624764815764,
     "user": {
      "displayName": "Dave Ng",
      "photoUrl": "https://lh3.googleusercontent.com/a-/AOh14GgonRm27MsGqoj6VBdYHSPgZwrgEH99_VpwU7OMzQ=s64",
      "userId": "11648937927449049695"
     },
     "user_tz": -480
    },
    "id": "iRH2mMnIZGXn",
    "papermill": {
     "duration": 0.066263,
     "end_time": "2021-06-27T05:44:13.924584",
     "exception": false,
     "start_time": "2021-06-27T05:44:13.858321",
     "status": "completed"
    },
    "tags": []
   },
   "outputs": [],
   "source": [
    "filterwarnings('ignore')"
   ]
  },
  {
   "cell_type": "code",
   "execution_count": 26,
   "id": "combined-prime",
   "metadata": {
    "ExecuteTime": {
     "end_time": "2022-07-17T06:00:08.724214Z",
     "start_time": "2022-07-17T06:00:08.711250Z"
    },
    "execution": {
     "iopub.execute_input": "2021-06-27T05:44:14.048209Z",
     "iopub.status.busy": "2021-06-27T05:44:14.047547Z",
     "iopub.status.idle": "2021-06-27T05:44:14.050888Z",
     "shell.execute_reply": "2021-06-27T05:44:14.050286Z",
     "shell.execute_reply.started": "2021-06-27T05:32:48.014027Z"
    },
    "executionInfo": {
     "elapsed": 5,
     "status": "ok",
     "timestamp": 1624764815765,
     "user": {
      "displayName": "Dave Ng",
      "photoUrl": "https://lh3.googleusercontent.com/a-/AOh14GgonRm27MsGqoj6VBdYHSPgZwrgEH99_VpwU7OMzQ=s64",
      "userId": "11648937927449049695"
     },
     "user_tz": -480
    },
    "id": "KUfhzOvDZP_d",
    "papermill": {
     "duration": 0.068204,
     "end_time": "2021-06-27T05:44:14.051045",
     "exception": false,
     "start_time": "2021-06-27T05:44:13.982841",
     "status": "completed"
    },
    "tags": []
   },
   "outputs": [],
   "source": [
    "def randomsearch_cv_scores(models, params, X_train, X_test, y_train, y_test):\n",
    "    np.random.seed(42)\n",
    "\n",
    "    model_rs_scores = {}\n",
    "    model_rs_best_param = {}\n",
    "\n",
    "    for name, model in models.items():\n",
    "        rs_model = RandomizedSearchCV(model,\n",
    "                                      param_distributions=params[name],\n",
    "                                      cv=5,\n",
    "                                      n_iter=20,\n",
    "                                      verbose=1)\n",
    "        rs_model.fit(X_train, y_train)\n",
    "        model_rs_scores[name] = rs_model.score(X_test, y_test)\n",
    "        model_rs_best_param[name] = rs_model.best_params_\n",
    "\n",
    "    return model_rs_scores, model_rs_best_param"
   ]
  },
  {
   "cell_type": "markdown",
   "id": "front-mumbai",
   "metadata": {
    "id": "fCbitPt2Z5HZ",
    "papermill": {
     "duration": 0.058435,
     "end_time": "2021-06-27T05:44:14.167868",
     "exception": false,
     "start_time": "2021-06-27T05:44:14.109433",
     "status": "completed"
    },
    "tags": []
   },
   "source": [
    "### RandomSearch CV 1"
   ]
  },
  {
   "cell_type": "code",
   "execution_count": 27,
   "id": "saved-provincial",
   "metadata": {
    "ExecuteTime": {
     "end_time": "2022-07-17T06:00:08.756130Z",
     "start_time": "2022-07-17T06:00:08.732194Z"
    },
    "execution": {
     "iopub.execute_input": "2021-06-27T05:44:14.289743Z",
     "iopub.status.busy": "2021-06-27T05:44:14.289084Z",
     "iopub.status.idle": "2021-06-27T05:44:14.298161Z",
     "shell.execute_reply": "2021-06-27T05:44:14.298623Z",
     "shell.execute_reply.started": "2021-06-27T05:42:04.533905Z"
    },
    "executionInfo": {
     "elapsed": 3,
     "status": "ok",
     "timestamp": 1624764816175,
     "user": {
      "displayName": "Dave Ng",
      "photoUrl": "https://lh3.googleusercontent.com/a-/AOh14GgonRm27MsGqoj6VBdYHSPgZwrgEH99_VpwU7OMzQ=s64",
      "userId": "11648937927449049695"
     },
     "user_tz": -480
    },
    "id": "2VSvGOtEZ-lI",
    "papermill": {
     "duration": 0.072681,
     "end_time": "2021-06-27T05:44:14.298802",
     "exception": false,
     "start_time": "2021-06-27T05:44:14.226121",
     "status": "completed"
    },
    "tags": []
   },
   "outputs": [],
   "source": [
    "params = {\n",
    "    'KNeighborsClassifier': {\n",
    "        'n_neighbors': np.arange(1, 100, 10)\n",
    "    },\n",
    "    'XGBClassifier': {\n",
    "        'learning_rate': np.linspace(0, 1, 20),\n",
    "        'gamma': [0, 2, 4, 10, 20, 50],\n",
    "        'max_depth': [2, 3, 6, 10, 20],\n",
    "        'lambda': [0, 1],\n",
    "        'alpha': [0, 0.1, 0.2, 0.5, 0.8, 1],\n",
    "    },\n",
    "    'XGBRFClassifier': {\n",
    "        'learning_rate': np.linspace(0, 1, 20),\n",
    "        'max_depth': [2, 3, 6, 10, 20],\n",
    "    },\n",
    "    'SVC': {\n",
    "        'C': [0.1, 0.5, 1, 10, 100, 500],\n",
    "        'kernel': ['linear', 'poly', 'rbf', 'sigmoid'],\n",
    "        'gamma': ['scale', 'auto'],\n",
    "        'degree': [2, 3, 4, 5, 6, 7]\n",
    "    }\n",
    "}\n",
    "models = {\n",
    "    'KNeighborsClassifier': KNeighborsClassifier(),\n",
    "    'XGBClassifier': XGBClassifier(eval_metric='mlogloss'),\n",
    "    'XGBRFClassifier': XGBRFClassifier(eval_metric='mlogloss'),\n",
    "    'SVC': SVC()\n",
    "}"
   ]
  },
  {
   "cell_type": "code",
   "execution_count": 28,
   "id": "obvious-original",
   "metadata": {
    "ExecuteTime": {
     "end_time": "2022-07-17T06:00:34.440408Z",
     "start_time": "2022-07-17T06:00:08.758125Z"
    },
    "execution": {
     "iopub.execute_input": "2021-06-27T05:44:14.426844Z",
     "iopub.status.busy": "2021-06-27T05:44:14.422846Z",
     "iopub.status.idle": "2021-06-27T05:44:23.120030Z",
     "shell.execute_reply": "2021-06-27T05:44:23.119348Z",
     "shell.execute_reply.started": "2021-06-27T05:42:05.133442Z"
    },
    "executionInfo": {
     "elapsed": 4166,
     "status": "ok",
     "timestamp": 1624764820742,
     "user": {
      "displayName": "Dave Ng",
      "photoUrl": "https://lh3.googleusercontent.com/a-/AOh14GgonRm27MsGqoj6VBdYHSPgZwrgEH99_VpwU7OMzQ=s64",
      "userId": "11648937927449049695"
     },
     "user_tz": -480
    },
    "id": "6lBmr49kc6rt",
    "outputId": "49581f4c-0cc2-4064-9db7-3bd6cdc8f3f4",
    "papermill": {
     "duration": 8.762669,
     "end_time": "2021-06-27T05:44:23.120188",
     "exception": false,
     "start_time": "2021-06-27T05:44:14.357519",
     "status": "completed"
    },
    "tags": []
   },
   "outputs": [
    {
     "name": "stdout",
     "output_type": "stream",
     "text": [
      "Fitting 5 folds for each of 10 candidates, totalling 50 fits\n",
      "Fitting 5 folds for each of 20 candidates, totalling 100 fits\n",
      "Fitting 5 folds for each of 20 candidates, totalling 100 fits\n",
      "Fitting 5 folds for each of 20 candidates, totalling 100 fits\n"
     ]
    }
   ],
   "source": [
    "model_rs_scores_1, model_rs_best_param_1 = randomsearch_cv_scores(\n",
    "    models, params, X_train, X_test, y_train, y_test)"
   ]
  },
  {
   "cell_type": "code",
   "execution_count": 29,
   "id": "august-visitor",
   "metadata": {
    "ExecuteTime": {
     "end_time": "2022-07-17T06:00:34.447404Z",
     "start_time": "2022-07-17T06:00:34.442417Z"
    },
    "execution": {
     "iopub.execute_input": "2021-06-27T05:44:23.245426Z",
     "iopub.status.busy": "2021-06-27T05:44:23.244748Z",
     "iopub.status.idle": "2021-06-27T05:44:23.247817Z",
     "shell.execute_reply": "2021-06-27T05:44:23.248309Z",
     "shell.execute_reply.started": "2021-06-27T05:42:13.931469Z"
    },
    "executionInfo": {
     "elapsed": 14,
     "status": "ok",
     "timestamp": 1624764820744,
     "user": {
      "displayName": "Dave Ng",
      "photoUrl": "https://lh3.googleusercontent.com/a-/AOh14GgonRm27MsGqoj6VBdYHSPgZwrgEH99_VpwU7OMzQ=s64",
      "userId": "11648937927449049695"
     },
     "user_tz": -480
    },
    "id": "UppWM27mdDAV",
    "outputId": "2019771d-50f1-4d84-acb8-9e85a1dc4713",
    "papermill": {
     "duration": 0.067879,
     "end_time": "2021-06-27T05:44:23.248472",
     "exception": false,
     "start_time": "2021-06-27T05:44:23.180593",
     "status": "completed"
    },
    "tags": []
   },
   "outputs": [
    {
     "data": {
      "text/plain": [
       "{'KNeighborsClassifier': 0.925,\n",
       " 'XGBClassifier': 0.9125,\n",
       " 'XGBRFClassifier': 0.9125,\n",
       " 'SVC': 0.9375}"
      ]
     },
     "execution_count": 29,
     "metadata": {},
     "output_type": "execute_result"
    }
   ],
   "source": [
    "model_rs_scores_1"
   ]
  },
  {
   "cell_type": "code",
   "execution_count": 30,
   "id": "common-projector",
   "metadata": {
    "ExecuteTime": {
     "end_time": "2022-07-17T06:00:34.496867Z",
     "start_time": "2022-07-17T06:00:34.450621Z"
    },
    "execution": {
     "iopub.execute_input": "2021-06-27T05:44:23.371708Z",
     "iopub.status.busy": "2021-06-27T05:44:23.371090Z",
     "iopub.status.idle": "2021-06-27T05:44:23.377715Z",
     "shell.execute_reply": "2021-06-27T05:44:23.377149Z",
     "shell.execute_reply.started": "2021-06-27T05:42:13.938124Z"
    },
    "executionInfo": {
     "elapsed": 9,
     "status": "ok",
     "timestamp": 1624764820745,
     "user": {
      "displayName": "Dave Ng",
      "photoUrl": "https://lh3.googleusercontent.com/a-/AOh14GgonRm27MsGqoj6VBdYHSPgZwrgEH99_VpwU7OMzQ=s64",
      "userId": "11648937927449049695"
     },
     "user_tz": -480
    },
    "id": "gQdbGJXxfPe-",
    "outputId": "6a2d93a3-d8f4-4a19-c22f-009334455317",
    "papermill": {
     "duration": 0.06944,
     "end_time": "2021-06-27T05:44:23.377853",
     "exception": false,
     "start_time": "2021-06-27T05:44:23.308413",
     "status": "completed"
    },
    "tags": []
   },
   "outputs": [
    {
     "data": {
      "text/plain": [
       "{'KNeighborsClassifier': {'n_neighbors': 11},\n",
       " 'XGBClassifier': {'max_depth': 2,\n",
       "  'learning_rate': 0.631578947368421,\n",
       "  'lambda': 0,\n",
       "  'gamma': 20,\n",
       "  'alpha': 0},\n",
       " 'XGBRFClassifier': {'max_depth': 2, 'learning_rate': 0.47368421052631576},\n",
       " 'SVC': {'kernel': 'rbf', 'gamma': 'scale', 'degree': 7, 'C': 0.5}}"
      ]
     },
     "execution_count": 30,
     "metadata": {},
     "output_type": "execute_result"
    }
   ],
   "source": [
    "model_rs_best_param_1"
   ]
  },
  {
   "cell_type": "markdown",
   "id": "special-sponsorship",
   "metadata": {
    "id": "xSJ217mxiCFB",
    "papermill": {
     "duration": 0.059969,
     "end_time": "2021-06-27T05:44:23.499588",
     "exception": false,
     "start_time": "2021-06-27T05:44:23.439619",
     "status": "completed"
    },
    "tags": []
   },
   "source": [
    "## RandomSearch CV 2"
   ]
  },
  {
   "cell_type": "code",
   "execution_count": 31,
   "id": "gentle-television",
   "metadata": {
    "ExecuteTime": {
     "end_time": "2022-07-17T06:00:34.508872Z",
     "start_time": "2022-07-17T06:00:34.499861Z"
    },
    "execution": {
     "iopub.execute_input": "2021-06-27T05:44:23.634447Z",
     "iopub.status.busy": "2021-06-27T05:44:23.633556Z",
     "iopub.status.idle": "2021-06-27T05:44:23.636649Z",
     "shell.execute_reply": "2021-06-27T05:44:23.636097Z",
     "shell.execute_reply.started": "2021-06-27T05:41:30.968706Z"
    },
    "executionInfo": {
     "elapsed": 385,
     "status": "ok",
     "timestamp": 1624765087061,
     "user": {
      "displayName": "Dave Ng",
      "photoUrl": "https://lh3.googleusercontent.com/a-/AOh14GgonRm27MsGqoj6VBdYHSPgZwrgEH99_VpwU7OMzQ=s64",
      "userId": "11648937927449049695"
     },
     "user_tz": -480
    },
    "id": "UktWmo1DhwjT",
    "papermill": {
     "duration": 0.074657,
     "end_time": "2021-06-27T05:44:23.636785",
     "exception": false,
     "start_time": "2021-06-27T05:44:23.562128",
     "status": "completed"
    },
    "tags": []
   },
   "outputs": [],
   "source": [
    "params = {\n",
    "    'KNeighborsClassifier': {\n",
    "        'n_neighbors': np.arange(1, 15)\n",
    "    },\n",
    "    'XGBClassifier': {\n",
    "        'learning_rate': [0.631578947368421],\n",
    "        'gamma': [15, 20, 25],\n",
    "        'max_depth': [2],\n",
    "        'lambda': [0, 1],\n",
    "        'alpha': [0],\n",
    "    },\n",
    "    'XGBRFClassifier': {\n",
    "        'learning_rate': [0.47368421052631576],\n",
    "        'max_depth': [2],\n",
    "    },\n",
    "    'SVC': {\n",
    "        'C': [0.3, 0.4, 0.5, 0.6, 0.7],\n",
    "        'kernel': ['rbf'],\n",
    "        'gamma': ['scale'],\n",
    "        'degree': [7, 8, 9, 10, 15, 20]\n",
    "    }\n",
    "}\n",
    "models = {\n",
    "    'KNeighborsClassifier': KNeighborsClassifier(),\n",
    "    'XGBClassifier': XGBClassifier(eval_metric='mlogloss'),\n",
    "    'XGBRFClassifier': XGBRFClassifier(eval_metric='mlogloss'),\n",
    "    'SVC': SVC()\n",
    "}"
   ]
  },
  {
   "cell_type": "code",
   "execution_count": 32,
   "id": "attempted-register",
   "metadata": {
    "ExecuteTime": {
     "end_time": "2022-07-17T06:00:40.875237Z",
     "start_time": "2022-07-17T06:00:34.510829Z"
    },
    "execution": {
     "iopub.execute_input": "2021-06-27T05:44:23.767122Z",
     "iopub.status.busy": "2021-06-27T05:44:23.766463Z",
     "iopub.status.idle": "2021-06-27T05:44:25.632663Z",
     "shell.execute_reply": "2021-06-27T05:44:25.631536Z",
     "shell.execute_reply.started": "2021-06-27T05:41:31.349143Z"
    },
    "executionInfo": {
     "elapsed": 1526,
     "status": "ok",
     "timestamp": 1624765101440,
     "user": {
      "displayName": "Dave Ng",
      "photoUrl": "https://lh3.googleusercontent.com/a-/AOh14GgonRm27MsGqoj6VBdYHSPgZwrgEH99_VpwU7OMzQ=s64",
      "userId": "11648937927449049695"
     },
     "user_tz": -480
    },
    "id": "4Wb1h_ini7mi",
    "outputId": "c9fe545a-c212-44ef-897f-db35bd11e829",
    "papermill": {
     "duration": 1.93477,
     "end_time": "2021-06-27T05:44:25.632818",
     "exception": false,
     "start_time": "2021-06-27T05:44:23.698048",
     "status": "completed"
    },
    "tags": []
   },
   "outputs": [
    {
     "name": "stdout",
     "output_type": "stream",
     "text": [
      "Fitting 5 folds for each of 14 candidates, totalling 70 fits\n",
      "Fitting 5 folds for each of 6 candidates, totalling 30 fits\n",
      "Fitting 5 folds for each of 1 candidates, totalling 5 fits\n",
      "Fitting 5 folds for each of 20 candidates, totalling 100 fits\n"
     ]
    }
   ],
   "source": [
    "model_rs_scores_2, model_rs_best_param_2 = randomsearch_cv_scores(\n",
    "    models, params, X_train, X_test, y_train, y_test)"
   ]
  },
  {
   "cell_type": "code",
   "execution_count": 33,
   "id": "pending-ideal",
   "metadata": {
    "ExecuteTime": {
     "end_time": "2022-07-17T06:00:40.884940Z",
     "start_time": "2022-07-17T06:00:40.876964Z"
    },
    "execution": {
     "iopub.execute_input": "2021-06-27T05:44:25.766504Z",
     "iopub.status.busy": "2021-06-27T05:44:25.765793Z",
     "iopub.status.idle": "2021-06-27T05:44:25.771708Z",
     "shell.execute_reply": "2021-06-27T05:44:25.771094Z",
     "shell.execute_reply.started": "2021-06-27T05:41:33.425815Z"
    },
    "executionInfo": {
     "elapsed": 386,
     "status": "ok",
     "timestamp": 1624765175768,
     "user": {
      "displayName": "Dave Ng",
      "photoUrl": "https://lh3.googleusercontent.com/a-/AOh14GgonRm27MsGqoj6VBdYHSPgZwrgEH99_VpwU7OMzQ=s64",
      "userId": "11648937927449049695"
     },
     "user_tz": -480
    },
    "id": "Y4ndAFvMi-rF",
    "outputId": "8a763436-c7e1-4e8d-e404-db4e0778f0e0",
    "papermill": {
     "duration": 0.076897,
     "end_time": "2021-06-27T05:44:25.771845",
     "exception": false,
     "start_time": "2021-06-27T05:44:25.694948",
     "status": "completed"
    },
    "tags": []
   },
   "outputs": [
    {
     "data": {
      "text/plain": [
       "{'KNeighborsClassifier': 0.9375,\n",
       " 'XGBClassifier': 0.9125,\n",
       " 'XGBRFClassifier': 0.9125,\n",
       " 'SVC': 0.925}"
      ]
     },
     "execution_count": 33,
     "metadata": {},
     "output_type": "execute_result"
    }
   ],
   "source": [
    "model_rs_scores_2"
   ]
  },
  {
   "cell_type": "code",
   "execution_count": 34,
   "id": "designing-asset",
   "metadata": {
    "ExecuteTime": {
     "end_time": "2022-07-17T06:00:40.930470Z",
     "start_time": "2022-07-17T06:00:40.888439Z"
    },
    "execution": {
     "iopub.execute_input": "2021-06-27T05:44:25.901222Z",
     "iopub.status.busy": "2021-06-27T05:44:25.900544Z",
     "iopub.status.idle": "2021-06-27T05:44:25.903376Z",
     "shell.execute_reply": "2021-06-27T05:44:25.903840Z",
     "shell.execute_reply.started": "2021-06-27T05:41:40.544567Z"
    },
    "executionInfo": {
     "elapsed": 401,
     "status": "ok",
     "timestamp": 1624765178315,
     "user": {
      "displayName": "Dave Ng",
      "photoUrl": "https://lh3.googleusercontent.com/a-/AOh14GgonRm27MsGqoj6VBdYHSPgZwrgEH99_VpwU7OMzQ=s64",
      "userId": "11648937927449049695"
     },
     "user_tz": -480
    },
    "id": "wTS_dyNdjRQr",
    "outputId": "c64891fe-a30e-4589-fca1-401f6ebec585",
    "papermill": {
     "duration": 0.070294,
     "end_time": "2021-06-27T05:44:25.904025",
     "exception": false,
     "start_time": "2021-06-27T05:44:25.833731",
     "status": "completed"
    },
    "tags": []
   },
   "outputs": [
    {
     "data": {
      "text/plain": [
       "{'KNeighborsClassifier': {'n_neighbors': 9},\n",
       " 'XGBClassifier': {'max_depth': 2,\n",
       "  'learning_rate': 0.631578947368421,\n",
       "  'lambda': 0,\n",
       "  'gamma': 15,\n",
       "  'alpha': 0},\n",
       " 'XGBRFClassifier': {'max_depth': 2, 'learning_rate': 0.47368421052631576},\n",
       " 'SVC': {'kernel': 'rbf', 'gamma': 'scale', 'degree': 20, 'C': 0.6}}"
      ]
     },
     "execution_count": 34,
     "metadata": {},
     "output_type": "execute_result"
    }
   ],
   "source": [
    "model_rs_best_param_2"
   ]
  },
  {
   "cell_type": "markdown",
   "id": "incoming-buddy",
   "metadata": {
    "id": "ygViIhOjjR3x",
    "papermill": {
     "duration": 0.062032,
     "end_time": "2021-06-27T05:44:26.028130",
     "exception": false,
     "start_time": "2021-06-27T05:44:25.966098",
     "status": "completed"
    },
    "tags": []
   },
   "source": [
    "# 6. Model Evaluting"
   ]
  },
  {
   "cell_type": "code",
   "execution_count": 35,
   "id": "fiscal-anaheim",
   "metadata": {
    "ExecuteTime": {
     "end_time": "2022-07-17T06:00:40.939445Z",
     "start_time": "2022-07-17T06:00:40.931466Z"
    },
    "execution": {
     "iopub.execute_input": "2021-06-27T05:44:26.162307Z",
     "iopub.status.busy": "2021-06-27T05:44:26.161638Z",
     "iopub.status.idle": "2021-06-27T05:44:26.165150Z",
     "shell.execute_reply": "2021-06-27T05:44:26.165608Z",
     "shell.execute_reply.started": "2021-06-27T05:32:58.639279Z"
    },
    "executionInfo": {
     "elapsed": 379,
     "status": "ok",
     "timestamp": 1624765499243,
     "user": {
      "displayName": "Dave Ng",
      "photoUrl": "https://lh3.googleusercontent.com/a-/AOh14GgonRm27MsGqoj6VBdYHSPgZwrgEH99_VpwU7OMzQ=s64",
      "userId": "11648937927449049695"
     },
     "user_tz": -480
    },
    "id": "uTcKwqkDjw8d",
    "papermill": {
     "duration": 0.073524,
     "end_time": "2021-06-27T05:44:26.165792",
     "exception": false,
     "start_time": "2021-06-27T05:44:26.092268",
     "status": "completed"
    },
    "tags": []
   },
   "outputs": [],
   "source": [
    "from sklearn.metrics import classification_report, plot_confusion_matrix, plot_roc_curve"
   ]
  },
  {
   "cell_type": "code",
   "execution_count": 36,
   "id": "considered-quilt",
   "metadata": {
    "ExecuteTime": {
     "end_time": "2022-07-17T06:00:40.953441Z",
     "start_time": "2022-07-17T06:00:40.941442Z"
    },
    "execution": {
     "iopub.execute_input": "2021-06-27T05:44:26.292998Z",
     "iopub.status.busy": "2021-06-27T05:44:26.292323Z",
     "iopub.status.idle": "2021-06-27T05:44:26.301194Z",
     "shell.execute_reply": "2021-06-27T05:44:26.301729Z",
     "shell.execute_reply.started": "2021-06-27T05:32:58.650592Z"
    },
    "executionInfo": {
     "elapsed": 417,
     "status": "ok",
     "timestamp": 1624766158148,
     "user": {
      "displayName": "Dave Ng",
      "photoUrl": "https://lh3.googleusercontent.com/a-/AOh14GgonRm27MsGqoj6VBdYHSPgZwrgEH99_VpwU7OMzQ=s64",
      "userId": "11648937927449049695"
     },
     "user_tz": -480
    },
    "id": "fnvi8sdYji8w",
    "papermill": {
     "duration": 0.074328,
     "end_time": "2021-06-27T05:44:26.301901",
     "exception": false,
     "start_time": "2021-06-27T05:44:26.227573",
     "status": "completed"
    },
    "tags": []
   },
   "outputs": [],
   "source": [
    "model = KNeighborsClassifier(n_neighbors=9)\n",
    "model.fit(X_train, y_train)\n",
    "y_preds = model.predict(X_test)"
   ]
  },
  {
   "cell_type": "markdown",
   "id": "quarterly-murray",
   "metadata": {
    "id": "W5147OM4ma1x",
    "papermill": {
     "duration": 0.06203,
     "end_time": "2021-06-27T05:44:26.427730",
     "exception": false,
     "start_time": "2021-06-27T05:44:26.365700",
     "status": "completed"
    },
    "tags": []
   },
   "source": [
    "## Classification Report"
   ]
  },
  {
   "cell_type": "code",
   "execution_count": 37,
   "id": "dirty-sport",
   "metadata": {
    "ExecuteTime": {
     "end_time": "2022-07-17T06:00:40.967408Z",
     "start_time": "2022-07-17T06:00:40.954405Z"
    },
    "execution": {
     "iopub.execute_input": "2021-06-27T05:44:26.555708Z",
     "iopub.status.busy": "2021-06-27T05:44:26.555062Z",
     "iopub.status.idle": "2021-06-27T05:44:26.565306Z",
     "shell.execute_reply": "2021-06-27T05:44:26.565814Z",
     "shell.execute_reply.started": "2021-06-27T05:32:58.669190Z"
    },
    "executionInfo": {
     "elapsed": 9,
     "status": "ok",
     "timestamp": 1624766158543,
     "user": {
      "displayName": "Dave Ng",
      "photoUrl": "https://lh3.googleusercontent.com/a-/AOh14GgonRm27MsGqoj6VBdYHSPgZwrgEH99_VpwU7OMzQ=s64",
      "userId": "11648937927449049695"
     },
     "user_tz": -480
    },
    "id": "RF4sq1qnjvIc",
    "outputId": "ee22b5e5-44a6-4148-a9d3-602082b4d29c",
    "papermill": {
     "duration": 0.076758,
     "end_time": "2021-06-27T05:44:26.566002",
     "exception": false,
     "start_time": "2021-06-27T05:44:26.489244",
     "status": "completed"
    },
    "tags": []
   },
   "outputs": [
    {
     "name": "stdout",
     "output_type": "stream",
     "text": [
      "              precision    recall  f1-score   support\n",
      "\n",
      "           0       0.98      0.92      0.95        52\n",
      "           1       0.87      0.96      0.92        28\n",
      "\n",
      "    accuracy                           0.94        80\n",
      "   macro avg       0.93      0.94      0.93        80\n",
      "weighted avg       0.94      0.94      0.94        80\n",
      "\n"
     ]
    }
   ],
   "source": [
    "print(classification_report(y_test, y_preds))"
   ]
  },
  {
   "cell_type": "markdown",
   "id": "strategic-progress",
   "metadata": {
    "id": "B69h6KFemgOb",
    "papermill": {
     "duration": 0.061903,
     "end_time": "2021-06-27T05:44:26.691293",
     "exception": false,
     "start_time": "2021-06-27T05:44:26.629390",
     "status": "completed"
    },
    "tags": []
   },
   "source": [
    "## Confusion Matrix"
   ]
  },
  {
   "cell_type": "code",
   "execution_count": 38,
   "id": "quality-stuff",
   "metadata": {
    "ExecuteTime": {
     "end_time": "2022-07-17T06:00:41.143938Z",
     "start_time": "2022-07-17T06:00:40.968367Z"
    },
    "execution": {
     "iopub.execute_input": "2021-06-27T05:44:26.825362Z",
     "iopub.status.busy": "2021-06-27T05:44:26.824385Z",
     "iopub.status.idle": "2021-06-27T05:44:26.987991Z",
     "shell.execute_reply": "2021-06-27T05:44:26.988444Z",
     "shell.execute_reply.started": "2021-06-27T05:32:58.690152Z"
    },
    "executionInfo": {
     "elapsed": 436,
     "status": "ok",
     "timestamp": 1624766164416,
     "user": {
      "displayName": "Dave Ng",
      "photoUrl": "https://lh3.googleusercontent.com/a-/AOh14GgonRm27MsGqoj6VBdYHSPgZwrgEH99_VpwU7OMzQ=s64",
      "userId": "11648937927449049695"
     },
     "user_tz": -480
    },
    "id": "puOfkni4kTJ8",
    "outputId": "886cb8c3-41aa-47dd-c9c0-3e07ff13b3e5",
    "papermill": {
     "duration": 0.233674,
     "end_time": "2021-06-27T05:44:26.988618",
     "exception": false,
     "start_time": "2021-06-27T05:44:26.754944",
     "status": "completed"
    },
    "tags": []
   },
   "outputs": [
    {
     "data": {
      "image/png": "[encoded data removed]",
      "text/plain": [
       "<Figure size 432x288 with 2 Axes>"
      ]
     },
     "metadata": {
      "needs_background": "light"
     },
     "output_type": "display_data"
    }
   ],
   "source": [
    "plot_confusion_matrix(model, X_test, y_test);"
   ]
  },
  {
   "cell_type": "markdown",
   "id": "tutorial-coverage",
   "metadata": {
    "id": "cCCkJtMDmj9A",
    "papermill": {
     "duration": 0.068865,
     "end_time": "2021-06-27T05:44:27.120726",
     "exception": false,
     "start_time": "2021-06-27T05:44:27.051861",
     "status": "completed"
    },
    "tags": []
   },
   "source": [
    "## ROC Curve"
   ]
  },
  {
   "cell_type": "code",
   "execution_count": 39,
   "id": "unusual-integrity",
   "metadata": {
    "ExecuteTime": {
     "end_time": "2022-07-17T06:00:41.397824Z",
     "start_time": "2022-07-17T06:00:41.146890Z"
    },
    "execution": {
     "iopub.execute_input": "2021-06-27T05:44:27.251227Z",
     "iopub.status.busy": "2021-06-27T05:44:27.250269Z",
     "iopub.status.idle": "2021-06-27T05:44:27.403383Z",
     "shell.execute_reply": "2021-06-27T05:44:27.403881Z",
     "shell.execute_reply.started": "2021-06-27T05:32:58.857540Z"
    },
    "executionInfo": {
     "elapsed": 7,
     "status": "ok",
     "timestamp": 1624766165875,
     "user": {
      "displayName": "Dave Ng",
      "photoUrl": "https://lh3.googleusercontent.com/a-/AOh14GgonRm27MsGqoj6VBdYHSPgZwrgEH99_VpwU7OMzQ=s64",
      "userId": "11648937927449049695"
     },
     "user_tz": -480
    },
    "id": "spOJbXnPkZAW",
    "outputId": "f2bc2c98-a1a0-4bd4-f8c6-1ab472aa6d60",
    "papermill": {
     "duration": 0.220353,
     "end_time": "2021-06-27T05:44:27.404065",
     "exception": false,
     "start_time": "2021-06-27T05:44:27.183712",
     "status": "completed"
    },
    "tags": []
   },
   "outputs": [
    {
     "data": {
      "image/png": "[encoded data removed]",
      "text/plain": [
       "<Figure size 432x288 with 1 Axes>"
      ]
     },
     "metadata": {
      "needs_background": "light"
     },
     "output_type": "display_data"
    }
   ],
   "source": [
    "plot_roc_curve(model, X_test, y_test);"
   ]
  },
  {
   "cell_type": "markdown",
   "id": "changing-preserve",
   "metadata": {
    "id": "onBn5WDdkdhO",
    "papermill": {
     "duration": 0.063458,
     "end_time": "2021-06-27T05:44:27.532712",
     "exception": false,
     "start_time": "2021-06-27T05:44:27.469254",
     "status": "completed"
    },
    "tags": []
   },
   "source": [
    "Model is preforming at 94% Accuracy"
   ]
  }
 ],
 "metadata": {
  "kernelspec": {
   "display_name": "Python 3 (ipykernel)",
   "language": "python",
   "name": "python3"
  },
  "language_info": {
   "codemirror_mode": {
    "name": "ipython",
    "version": 3
   },
   "file_extension": ".py",
   "mimetype": "text/x-python",
   "name": "python",
   "nbconvert_exporter": "python",
   "pygments_lexer": "ipython3",
   "version": "3.9.7"
  },
  "papermill": {
   "default_parameters": {},
   "duration": 29.64106,
   "end_time": "2021-06-27T05:44:28.434722",
   "environment_variables": {},
   "exception": null,
   "input_path": "__notebook__.ipynb",
   "output_path": "__notebook__.ipynb",
   "parameters": {},
   "start_time": "2021-06-27T05:43:58.793662",
   "version": "2.3.2"
  },
  "varInspector": {
   "cols": {
    "lenName": 16,
    "lenType": 16,
    "lenVar": 40
   },
   "kernels_config": {
    "python": {
     "delete_cmd_postfix": "",
     "delete_cmd_prefix": "del ",
     "library": "var_list.py",
     "varRefreshCmd": "print(var_dic_list())"
    },
    "r": {
     "delete_cmd_postfix": ") ",
     "delete_cmd_prefix": "rm(",
     "library": "var_list.r",
     "varRefreshCmd": "cat(var_dic_list()) "
    }
   },
   "types_to_exclude": [
    "module",
    "function",
    "builtin_function_or_method",
    "instance",
    "_Feature"
   ],
   "window_display": false
  }
 },
 "nbformat": 4,
 "nbformat_minor": 5
}
